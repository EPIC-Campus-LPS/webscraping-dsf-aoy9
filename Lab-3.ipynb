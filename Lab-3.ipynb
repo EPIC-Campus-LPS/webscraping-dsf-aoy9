{
 "cells": [
  {
   "cell_type": "markdown",
   "metadata": {},
   "source": [
    "Link Scraper"
   ]
  },
  {
   "cell_type": "code",
   "execution_count": 33,
   "metadata": {},
   "outputs": [
    {
     "name": "stdout",
     "output_type": "stream",
     "text": [
      "['instagram.com', 'instagram.com', 'instagram.com', 'instagram.com', 'instagram.com', 'instagram.com', 'instagram.com', 'hormelfoods.com', 'hormelfoods.com', 'hormelfoods.com', 'hormelfoods.com', 'hormelfoods.com', 'facebook.com', 'tiktok.com', 'youtube.com', 'pinterest.com', 'instagram.com']\n"
     ]
    }
   ],
   "source": [
    "import re\n",
    "import requests\n",
    "from bs4 import BeautifulSoup\n",
    "references = []\n",
    "\n",
    "page = requests.get(\"https://www.spam.com/\")\n",
    "soup = BeautifulSoup(page.content, \"html.parser\")\n",
    "links = [l.get('href') for l in soup.findAll(\"a\")]\n",
    "for i in range(len(links)):\n",
    "    sitecheck = str(links[i])\n",
    "    sites = re.search(r\"^(https://)www.(.+).(com)/(.+)\", sitecheck)\n",
    "    if sites:\n",
    "        if sites.group(2) == (\"spam\"):\n",
    "            pass\n",
    "        else:\n",
    "            cleansite = sites.group(2) + \".\" + sites.group(3)\n",
    "            references.append(cleansite)\n",
    "print(references)\n"
   ]
  },
  {
   "cell_type": "markdown",
   "metadata": {},
   "source": [
    "Weather"
   ]
  },
  {
   "cell_type": "code",
   "execution_count": 42,
   "metadata": {},
   "outputs": [
    {
     "name": "stdout",
     "output_type": "stream",
     "text": [
      "In Centennial, CO\n",
      "Thu 08, has a high of 49°F and a low of 27°F\n",
      "Fri 09, has a high of 43°F and a low of 26°F\n",
      "Sat 10, has a high of 31°F and a low of 21°F\n"
     ]
    }
   ],
   "source": [
    "import re\n",
    "import requests\n",
    "from bs4 import BeautifulSoup\n",
    "temperatures = []\n",
    "dates = []\n",
    "#this python file only works with the url of 10-day weather site of any location on weather.com\n",
    "page = requests.get(\"https://weather.com/weather/tenday/l/b3d28669f15941de7f529ccf413a3640711cbeaeee324967ae0939c341831c9b78c7a183fd77e8257f3f19f062eb4b1f\")\n",
    "soup = BeautifulSoup(page.content, \"html.parser\")\n",
    "weatherstat = soup.find_all(\"span\")\n",
    "for i in weatherstat:\n",
    "    if i.has_attr(\"data-testid\"):\n",
    "        if i[\"data-testid\"] == \"TemperatureValue\":\n",
    "            temperatures.append(i.text)\n",
    "        else:\n",
    "            pass\n",
    "    else:\n",
    "        pass\n",
    "datestat = soup.find_all(\"h3\")\n",
    "for i in datestat:\n",
    "    if i.has_attr(\"data-testid\"):\n",
    "            if i[\"data-testid\"] == \"daypartName\":\n",
    "                dates.append(i.text)\n",
    "            else:\n",
    "                pass\n",
    "    else:\n",
    "        pass\n",
    "notemprep = 4\n",
    "nodaterep = 1\n",
    "location = soup.find_all(\"span\")\n",
    "for i in location:\n",
    "    if i.has_attr(\"data-testid\"):\n",
    "        if i[\"data-testid\"] == \"PresentationName\":\n",
    "            locationname = i.text\n",
    "print(\"In\", locationname)\n",
    "for i in range(3):\n",
    "    print(dates[nodaterep] + \",\" + \" has a high of\", temperatures[notemprep] + \"F\" + \" and a low of\", temperatures[notemprep+1] + \"F\")\n",
    "    nodaterep += 1\n",
    "    notemprep += 4\n",
    "\n"
   ]
  },
  {
   "cell_type": "markdown",
   "metadata": {},
   "source": [
    "Recipes"
   ]
  },
  {
   "cell_type": "code",
   "execution_count": 33,
   "metadata": {},
   "outputs": [
    {
     "name": "stdout",
     "output_type": "stream",
     "text": [
      "1 pound raw shrimp\n",
      "1/2 cup chives\n",
      "2 teaspoons ginger\n",
      "2 teaspoons minced garlic\n",
      "2 teaspoons cornstarch\n",
      "1 teaspoon soy sauce\n",
      "1 teaspoon sesame oil\n",
      "1/2 teaspoon kosher salt\n",
      "1/2 teaspoon granulated sugar\n",
      "1/4 teaspoon black pepper\n",
      "3 wrapper, wonton wonton wrappers\n",
      "2 tablespoons vegetable oil\n",
      "1/2 cup water\n",
      "Soy sauce or chili sauce, or dumpling sauce, for dipping\n",
      "Crispy Shrimp and Chive Dumplings Recipe\n",
      "65 mins\n",
      "10 servings\n",
      " Prepare the shrimp:  \n",
      " Make the filling:  \n",
      " Prepare the wrappers:  \n",
      " Shape the dumplings:  \n",
      " Pan-fry the dumplings:  \n",
      " Steam the dumplings:  \n",
      " Serve:  \n",
      "Homemade dumplings are really easy to prepare! A shortcut way to make crispy potsticker-style dumplings is to use wontons wrappers instead of making the dough from scratch. Cut square wrappers into circles and fill with a shrimp, ginger, and chive filling. You can even shape the dumplings ahead of time for a party. The pan-fry and steaming process is done in less than 10 minutes. This recipe makes about 30 dumplings for a stunning appetizer to share!  Serve with a savory soy dipping sauce, or add a spicy kick with a sweet chili sauce.\n",
      "It’s important to chop the raw shrimp up until it creates a chunky paste. This will ensure that the filling holds together as it cooks. For a quicker alternative, pulse it in a food processor if you have one on hand. The shrimp is seasoned with soy sauce, sesame oil, salt, sugar, and white pepper. If you haven’t tried white pepper, it has a very earthy, spicy note, often used in Chinese cooking. Black pepper can be substituted. \n",
      "Freshly sliced chives add a delicate onion flavor; green onion is a good swap. Ginger and garlic adds a pungent taste to the seafood. Cornstarch helps to soak up the flavorful juices, and bind the filling together. \n",
      "Most grocery stores sell square wrappers, often used for wontons. I use ones that are 3 1/2 inches wide, then grab my round cutter to cut them into circles for forming prettier dumplings. The rim of a cup also works well, or you can use kitchen shears to trim off the pointed edges. \n",
      "Make sure to keep the wrappers covered, as they dry out fast! If you can find round wrappers called gyoza or potsticker, use them instead.\n",
      "Once you’ve prepared the wrappers, it’s time for some pleating fun! To help the dough stick together, brush some water around the edges. A 3 1/2-inch round wrapper will fit about 2 teaspoons of filling. Do not overfill or they will be hard to pleat and could burst when cooked. \n",
      "Fold the wrapper in half, then brush the edge with more water. Pleat the edge, making small overlapping folds, to give a pretty fan detail. I usually make about 5 to 6 pleats, pressing them firmly together. It’s okay if they’re not perfect. They’ll still be eaten fast.\n",
      "A large nonstick pan with a lid works best for pan-frying the dumplings. Cook them in hot vegetable oil for a few minutes, just to brown the bottoms. Add a small amount of water, then cover the pan. This will steam the dumplings, cooking the center of the shrimp filling. They’re done when no more water is left in the pan. Now just fry a second time for a minute or two, to ensure that the bottoms are browned and crisp. I cook them in two batches to not overcrowd the pan. Don’t worry, these cook up fast! Less than 10 minutes per batch. \n",
      "Chop the shrimp until it turns into a chunky paste.\n",
      "In a medium bowl, combine chopped shrimp, chives, ginger, garlic, cornstarch, soy sauce, sesame oil, salt, sugar, and pepper. Cover and refrigerate until ready to fill.\n",
      "If you purchased square wonton wrappers, use a 3 1/2-inch round cutter to cut out a circle shape. Keep the wrappers covered with a damp paper towel or plastic wrap to prevent them from drying out.\n",
      "Lightly brush the edges of 1 wrapper with water. Add about 2 teaspoons of filling to center the wrapper (do not overfill). Fold the dough into a half moon shape, remove any air, and press the edges together. Brush the outer edge of the dumpling with water. Starting on one side then working to the other, create about 5 to 6 small pleats along the edges of the dumpling. Make sure to press the pleats to ensure that it is sealed well. Repeat with the remaining wrappers and filling.\n",
      "Heat a large nonstick pan over medium-high heat. Add 1 tablespoon of the oil. Carefully add 15 dumplings to the pan. Fry until the bottoms are golden brown, about 1 to 2 minutes.\n",
      "Reduce the heat to medium-low. Very carefully, pour in 1/4 cup water into the side of the pan. Immediately cover, allowing dumplings to steam until the water evaporates, about 3 minutes. \n",
      "Remove the lid and turn up the heat to medium. Fry until bottoms are brown and crisp, about 1 to 2 minutes. \n",
      "Repeat with the remaining dumplings, adding the remaining 1 tablespoon of oil for browning and then 1/4 cup water for steaming.\n",
      "Serve the dumplings hot, with your favorite dipping sauce like soy sauce, sweet and sour, or spicy chili.\n",
      "Store in an airtight container in the refrigerator for up to 3 days.\n",
      "Did you love the recipe? Leave us stars below!\n"
     ]
    }
   ],
   "source": [
    "import requests\n",
    "from bs4 import BeautifulSoup\n",
    "recipe = []\n",
    "ingredients = []\n",
    "steps = []\n",
    "stepdetails = []\n",
    "\n",
    "page = requests.get(\"https://www.simplyrecipes.com/crispy-shrimp-and-chive-dumplings-recipe-6826320\")\n",
    "soup = BeautifulSoup(page.content, \"html.parser\")\n",
    "recipename = soup.title.text\n",
    "recipe.append(recipename)\n",
    "recipeinfo = soup.find_all(\"span\", class_=\"meta-text__data\")\n",
    "recipetime = recipeinfo[2].text\n",
    "recipe.append(recipetime)\n",
    "recipeserving = recipeinfo[3].text\n",
    "recipe.append(recipeserving)\n",
    "ing = soup.find_all(\"li\", class_=\"structured-ingredients__list-item\")\n",
    "\n",
    "for i in range(len(ing)):\n",
    "    ingredients.append(ing[i].text)\n",
    "for i in range(len(ingredients)):\n",
    "    print(ingredients[i].strip(\"\\n\"))\n",
    "for i in range(len(recipe)):\n",
    "    print(recipe[i])\n",
    "\n",
    "step = soup.find_all(\"span\", class_=\"mntl-sc-block-subheading__text\")\n",
    "for i in range(len(step)):\n",
    "    steps.append(step[i].text)\n",
    "for i in range(len(steps)):\n",
    "    print(steps[i].strip(\"\\n\"))\n",
    "\n",
    "stepdet = soup.find_all(\"p\", class_=\"comp mntl-sc-block mntl-sc-block-html\")\n",
    "for i in range(len(stepdet)):\n",
    "    "
   ]
  }
 ],
 "metadata": {
  "kernelspec": {
   "display_name": "Python 3",
   "language": "python",
   "name": "python3"
  },
  "language_info": {
   "codemirror_mode": {
    "name": "ipython",
    "version": 3
   },
   "file_extension": ".py",
   "mimetype": "text/x-python",
   "name": "python",
   "nbconvert_exporter": "python",
   "pygments_lexer": "ipython3",
   "version": "3.10.12"
  }
 },
 "nbformat": 4,
 "nbformat_minor": 2
}
